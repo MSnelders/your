{
 "cells": [
  {
   "cell_type": "markdown",
   "metadata": {},
   "source": [
    "# Writing files"
   ]
  },
  {
   "cell_type": "code",
   "execution_count": 1,
   "metadata": {},
   "outputs": [
    {
     "data": {
      "text/plain": [
       "'0.6.2'"
      ]
     },
     "execution_count": 1,
     "metadata": {},
     "output_type": "execute_result"
    }
   ],
   "source": [
    "import your\n",
    "\n",
    "your.__version__"
   ]
  },
  {
   "cell_type": "code",
   "execution_count": 2,
   "metadata": {},
   "outputs": [],
   "source": [
    "from your import Your, Writer\n",
    "import os\n",
    "import numpy as np\n",
    "import tempfile\n",
    "from urllib.request import urlretrieve"
   ]
  },
  {
   "cell_type": "code",
   "execution_count": 3,
   "metadata": {},
   "outputs": [],
   "source": [
    "import logging\n",
    "\n",
    "logger = logging.getLogger()\n",
    "logger = logging.basicConfig(\n",
    "    level=logging.INFO,\n",
    "    format=\"%(asctime)s - %(name)s - %(threadName)s - %(levelname)s -\" \" %(message)s\",\n",
    ")"
   ]
  },
  {
   "cell_type": "markdown",
   "metadata": {},
   "source": [
    "We can write + convert files using the [Writer](https://thepetabyteproject.github.io/your/writer/#writer) class in [Your](https://thepetabyteproject.github.io/your/your/#your). Let's read a Filterbank file and write out a PSRFITS and a Filterbank file"
   ]
  },
  {
   "cell_type": "code",
   "execution_count": 4,
   "metadata": {},
   "outputs": [],
   "source": [
    "temp_dir = tempfile.TemporaryDirectory()\n",
    "download_path = str(temp_dir.name) + \"/FRB180417.fil\"\n",
    "url = \"https://zenodo.org/record/3905426/files/FRB180417.fil\"\n",
    "urlretrieve(\n",
    "    url, download_path,\n",
    ")\n",
    "fil_file = download_path\n",
    "your_original_file = Your(fil_file)"
   ]
  },
  {
   "cell_type": "markdown",
   "metadata": {},
   "source": [
    "While writing files you can also select the required channel and spectra range. Just give the required ranges as input to the Writer class.  "
   ]
  },
  {
   "cell_type": "code",
   "execution_count": 12,
   "metadata": {},
   "outputs": [],
   "source": [
    "writer_object = Writer(\n",
    "    your_original_file,\n",
    "    nstart=0,\n",
    "    nsamp=10,\n",
    "    c_min=10,\n",
    "    c_max=100,\n",
    "    outdir=\".\"\n",
    "    outname=\"filfromfil\",\n",
    ")"
   ]
  },
  {
   "cell_type": "markdown",
   "metadata": {},
   "source": [
    "## Writing Filterbanks\n",
    "\n",
    "To write a filterbank we use the [`to_fil`](https://thepetabyteproject.github.io/your/writer/#to_fil) method,"
   ]
  },
  {
   "cell_type": "code",
   "execution_count": 13,
   "metadata": {},
   "outputs": [
    {
     "data": {
      "application/vnd.jupyter.widget-view+json": {
       "model_id": "de9d8d9823c64c9dba746f5dfa51ad90",
       "version_major": 2,
       "version_minor": 0
      },
      "text/plain": [
       "Output()"
      ]
     },
     "metadata": {},
     "output_type": "display_data"
    }
   ],
   "source": [
    "writer_object.to_fil()"
   ]
  },
  {
   "cell_type": "markdown",
   "metadata": {},
   "source": [
    "We can just read this Filterbank using [Your](https://thepetabyteproject.github.io/your/your/#your) to make sure that the header parameters and the data are correctly written."
   ]
  },
  {
   "cell_type": "code",
   "execution_count": 14,
   "metadata": {
    "scrolled": false
   },
   "outputs": [
    {
     "ename": "OSError",
     "evalue": "filfromfil.fil not found",
     "output_type": "error",
     "traceback": [
      "\u001b[0;31m---------------------------------------------------------------------------\u001b[0m",
      "\u001b[0;31mOSError\u001b[0m                                   Traceback (most recent call last)",
      "\u001b[0;32m<ipython-input-14-8ed06598747a>\u001b[0m in \u001b[0;36m<module>\u001b[0;34m\u001b[0m\n\u001b[0;32m----> 1\u001b[0;31m \u001b[0myour_written_filterbank\u001b[0m \u001b[0;34m=\u001b[0m \u001b[0mYour\u001b[0m\u001b[0;34m(\u001b[0m\u001b[0;34m\"filfromfil.fil\"\u001b[0m\u001b[0;34m)\u001b[0m\u001b[0;34m\u001b[0m\u001b[0;34m\u001b[0m\u001b[0m\n\u001b[0m\u001b[1;32m      2\u001b[0m \u001b[0myour_written_filterbank\u001b[0m\u001b[0;34m.\u001b[0m\u001b[0myour_header\u001b[0m\u001b[0;34m\u001b[0m\u001b[0;34m\u001b[0m\u001b[0m\n",
      "\u001b[0;32m~/soft/conda/envs/your_env/lib/python3.8/site-packages/your-0.6.2-py3.8.egg/your/your.py\u001b[0m in \u001b[0;36m__init__\u001b[0;34m(self, file)\u001b[0m\n\u001b[1;32m     35\u001b[0m         \u001b[0;32mif\u001b[0m \u001b[0misinstance\u001b[0m\u001b[0;34m(\u001b[0m\u001b[0mself\u001b[0m\u001b[0;34m.\u001b[0m\u001b[0myour_file\u001b[0m\u001b[0;34m,\u001b[0m \u001b[0mstr\u001b[0m\u001b[0;34m)\u001b[0m\u001b[0;34m:\u001b[0m\u001b[0;34m\u001b[0m\u001b[0;34m\u001b[0m\u001b[0m\n\u001b[1;32m     36\u001b[0m             \u001b[0mext\u001b[0m \u001b[0;34m=\u001b[0m \u001b[0mos\u001b[0m\u001b[0;34m.\u001b[0m\u001b[0mpath\u001b[0m\u001b[0;34m.\u001b[0m\u001b[0msplitext\u001b[0m\u001b[0;34m(\u001b[0m\u001b[0mself\u001b[0m\u001b[0;34m.\u001b[0m\u001b[0myour_file\u001b[0m\u001b[0;34m)\u001b[0m\u001b[0;34m[\u001b[0m\u001b[0;36m1\u001b[0m\u001b[0;34m]\u001b[0m\u001b[0;34m\u001b[0m\u001b[0;34m\u001b[0m\u001b[0m\n\u001b[0;32m---> 37\u001b[0;31m             \u001b[0mcheck_file_exist\u001b[0m\u001b[0;34m(\u001b[0m\u001b[0mself\u001b[0m\u001b[0;34m.\u001b[0m\u001b[0myour_file\u001b[0m\u001b[0;34m)\u001b[0m\u001b[0;34m\u001b[0m\u001b[0;34m\u001b[0m\u001b[0m\n\u001b[0m\u001b[1;32m     38\u001b[0m             \u001b[0;32mif\u001b[0m \u001b[0mext\u001b[0m \u001b[0;34m==\u001b[0m \u001b[0;34m\".fits\"\u001b[0m \u001b[0;32mor\u001b[0m \u001b[0mext\u001b[0m \u001b[0;34m==\u001b[0m \u001b[0;34m\".sf\"\u001b[0m\u001b[0;34m:\u001b[0m\u001b[0;34m\u001b[0m\u001b[0;34m\u001b[0m\u001b[0m\n\u001b[1;32m     39\u001b[0m                 \u001b[0mself\u001b[0m\u001b[0;34m.\u001b[0m\u001b[0mformat\u001b[0m \u001b[0;34m=\u001b[0m \u001b[0;34m\"fits\"\u001b[0m\u001b[0;34m\u001b[0m\u001b[0;34m\u001b[0m\u001b[0m\n",
      "\u001b[0;32m~/soft/conda/envs/your_env/lib/python3.8/site-packages/your-0.6.2-py3.8.egg/your/utils/misc.py\u001b[0m in \u001b[0;36mcheck_file_exist\u001b[0;34m(file)\u001b[0m\n\u001b[1;32m    140\u001b[0m     \"\"\"\n\u001b[1;32m    141\u001b[0m     \u001b[0;32mif\u001b[0m \u001b[0;32mnot\u001b[0m \u001b[0mos\u001b[0m\u001b[0;34m.\u001b[0m\u001b[0mpath\u001b[0m\u001b[0;34m.\u001b[0m\u001b[0misfile\u001b[0m\u001b[0;34m(\u001b[0m\u001b[0mfile\u001b[0m\u001b[0;34m)\u001b[0m\u001b[0;34m:\u001b[0m\u001b[0;34m\u001b[0m\u001b[0;34m\u001b[0m\u001b[0m\n\u001b[0;32m--> 142\u001b[0;31m         \u001b[0;32mraise\u001b[0m \u001b[0mIOError\u001b[0m\u001b[0;34m(\u001b[0m\u001b[0;34mf\"{file} not found\"\u001b[0m\u001b[0;34m)\u001b[0m\u001b[0;34m\u001b[0m\u001b[0;34m\u001b[0m\u001b[0m\n\u001b[0m\u001b[1;32m    143\u001b[0m \u001b[0;34m\u001b[0m\u001b[0m\n\u001b[1;32m    144\u001b[0m \u001b[0;34m\u001b[0m\u001b[0m\n",
      "\u001b[0;31mOSError\u001b[0m: filfromfil.fil not found"
     ]
    }
   ],
   "source": [
    "your_written_filterbank = Your(\"filfromfil.fil\")\n",
    "your_written_filterbank.your_header"
   ]
  },
  {
   "cell_type": "markdown",
   "metadata": {},
   "source": [
    "We can also compare data from both the original file and the newly written file:"
   ]
  },
  {
   "cell_type": "code",
   "execution_count": null,
   "metadata": {},
   "outputs": [],
   "source": [
    "original_data = your_original_file.get_data(0, 10)[:, 10:100]\n",
    "filterbank_data = your_written_filterbank.get_data(0, 10)"
   ]
  },
  {
   "cell_type": "code",
   "execution_count": null,
   "metadata": {},
   "outputs": [],
   "source": [
    "np.array_equal(original_data, filterbank_data)"
   ]
  },
  {
   "cell_type": "markdown",
   "metadata": {},
   "source": [
    "Looks good!\n",
    "\n",
    "## Writing PSRFITS\n",
    "\n",
    "\n",
    "\n",
    "All the inputs defined while declaring Writer are still gonna be used. Let's change the outname for clarity\n",
    "and select some channels"
   ]
  },
  {
   "cell_type": "code",
   "execution_count": null,
   "metadata": {},
   "outputs": [],
   "source": [
    "writer_object = Writer(\n",
    "    your_original_file,\n",
    "    nstart=0,\n",
    "    nsamp=10,\n",
    "    c_min=0,\n",
    "    c_max=100,\n",
    "    outdir=\".\",\n",
    "    outname=\"fitsfromfil\",\n",
    ")"
   ]
  },
  {
   "cell_type": "code",
   "execution_count": null,
   "metadata": {},
   "outputs": [],
   "source": [
    "writer_object.outname = \"fitsfromfil\"\n",
    "writer_object.c_min = 0\n",
    "writer_object.c_max = 100"
   ]
  },
  {
   "cell_type": "markdown",
   "metadata": {},
   "source": [
    "To write a PSRFITS we use the [`to_fits`](https://thepetabyteproject.github.io/your/writer/#to_fits) method,"
   ]
  },
  {
   "cell_type": "code",
   "execution_count": null,
   "metadata": {},
   "outputs": [],
   "source": [
    "writer_object.to_fits()"
   ]
  },
  {
   "cell_type": "markdown",
   "metadata": {},
   "source": [
    "Similar to reading the PSRFITS file, we can also read a filterbank file and convert to both formats by first defining a [`writer_object`](https://thepetabyteproject.github.io/your/writer/) and using the [`to_fits`](https://thepetabyteproject.github.io/your/writer/#to_fits) and [`to_fil`](https://thepetabyteproject.github.io/your/writer/#to_fil) methods.\n",
    "\n",
    "## Writing Filterbanks from scratch\n",
    "\n",
    "First step in writing a filterbank is to create the header. We will use the [`make_sigproc_object`](https://thepetabyteproject.github.io/your/formats/filwriter/#make_sigproc_object) function for this."
   ]
  },
  {
   "cell_type": "code",
   "execution_count": null,
   "metadata": {},
   "outputs": [],
   "source": [
    "import numpy as np\n",
    "from your.formats.filwriter import make_sigproc_object"
   ]
  },
  {
   "cell_type": "code",
   "execution_count": null,
   "metadata": {},
   "outputs": [],
   "source": [
    "sigproc_object = make_sigproc_object(\n",
    "    rawdatafile  = \"foo.fil\",\n",
    "    source_name = \"bar\",\n",
    "    nchans  = 1024, \n",
    "    foff = -0.1, #MHz\n",
    "    fch1 = 2000, # MHz\n",
    "    tsamp = 256e-6, # seconds\n",
    "    tstart = 59246, #MJD\n",
    "    src_raj=112233.44, # HHMMSS.SS\n",
    "    src_dej=112233.44, # DDMMSS.SS\n",
    "    machine_id=0,\n",
    "    nbeams=0,\n",
    "    ibeam=0,\n",
    "    nbits=8,\n",
    "    nifs=1,\n",
    "    barycentric=0,\n",
    "    pulsarcentric=0,\n",
    "    telescope_id=6,\n",
    "    data_type=0,\n",
    "    az_start=-1,\n",
    "    za_start=-1,\n",
    ")"
   ]
  },
  {
   "cell_type": "markdown",
   "metadata": {},
   "source": [
    "Now we have `sigproc_object` which is an instance of the [`SigprocFile`](https://thepetabyteproject.github.io/your/formats/pysigproc/#sigprocfile) class. The class contains all the required functions to write a new file.\n",
    "\n",
    "First we use [`write_header`](https://thepetabyteproject.github.io/your/formats/pysigproc/#write_header) to write the header in `foo.fil` and then we use [`append_spectra`](https://thepetabyteproject.github.io/your/formats/pysigproc/#append_spectra) to fill data in the file."
   ]
  },
  {
   "cell_type": "code",
   "execution_count": null,
   "metadata": {},
   "outputs": [],
   "source": [
    "sigproc_object.write_header(\"foo.fil\")"
   ]
  },
  {
   "cell_type": "markdown",
   "metadata": {},
   "source": [
    "Now let's create some random data with 8192 time samples and 1024 frequency channels to fill in our file and then append it."
   ]
  },
  {
   "cell_type": "code",
   "execution_count": null,
   "metadata": {},
   "outputs": [],
   "source": [
    "data_written = np.random.randint(low=0, high=255, size=(8192,1024), dtype=np.uint8)"
   ]
  },
  {
   "cell_type": "code",
   "execution_count": null,
   "metadata": {},
   "outputs": [],
   "source": [
    "sigproc_object.append_spectra(data_written, \"foo.fil\")"
   ]
  },
  {
   "cell_type": "markdown",
   "metadata": {},
   "source": [
    "We can test if the data written is correct by opening it using Your."
   ]
  },
  {
   "cell_type": "code",
   "execution_count": null,
   "metadata": {},
   "outputs": [],
   "source": [
    "your_filterbank = Your(\"foo.fil\")"
   ]
  },
  {
   "cell_type": "code",
   "execution_count": null,
   "metadata": {},
   "outputs": [],
   "source": [
    "your_filterbank.your_header"
   ]
  },
  {
   "cell_type": "code",
   "execution_count": null,
   "metadata": {},
   "outputs": [],
   "source": [
    "data_read = your_filterbank.get_data(nstart=0, nsamp=8192)"
   ]
  },
  {
   "cell_type": "code",
   "execution_count": null,
   "metadata": {},
   "outputs": [],
   "source": [
    "np.array_equal(data_read, data_written)"
   ]
  }
 ],
 "metadata": {
  "kernelspec": {
   "display_name": "Python 3",
   "language": "python",
   "name": "python3"
  },
  "language_info": {
   "codemirror_mode": {
    "name": "ipython",
    "version": 3
   },
   "file_extension": ".py",
   "mimetype": "text/x-python",
   "name": "python",
   "nbconvert_exporter": "python",
   "pygments_lexer": "ipython3",
   "version": "3.8.6"
  }
 },
 "nbformat": 4,
 "nbformat_minor": 2
}
